{
 "cells": [
  {
   "cell_type": "markdown",
   "id": "de1d67ed",
   "metadata": {},
   "source": [
    "# PyImageSearch - Machine Learning in Python\n",
    "\n",
    "```text\n",
    "Adrian Rosebrock, \n",
    "Machine Learning in Python, \n",
    "PyImageSearch, \n",
    "https://www.pyimagesearch.com/2019/01/14/machine-learning-in-python/,\n",
    "accessed on 18 May 2021\n",
    "```"
   ]
  },
  {
   "cell_type": "markdown",
   "id": "f52f8e14",
   "metadata": {},
   "source": [
    "This repo contains material heavily used from the above blog post by PyImageSearch.  The purpose of this repo is the following:\n",
    "\n",
    "* Convert the code to use Tensorflow2\n",
    "\n",
    "* Remove dependency on Pillow and only rely on OpenCV for image processing\n",
    "\n",
    "* Add Requirements/Setup to pin the versions of all Python libraries used\n",
    "\n",
    "* Remove the focus on the Iris dataset and focus on the 3-scenes\n",
    "\n",
    "* Enhancements to the histogram and visualizations"
   ]
  },
  {
   "cell_type": "markdown",
   "id": "27b1c50f",
   "metadata": {},
   "source": [
    "# Setup"
   ]
  },
  {
   "cell_type": "markdown",
   "id": "64320c8d",
   "metadata": {},
   "source": [
    "This version of the PyImageSearch repo was updated to use Tensorflow 2.\n",
    "\n",
    "To install all of the necessary packages:\n",
    "\n",
    "```shell\n",
    "pip install -r requirements.txt\n",
    "```\n",
    "\n",
    "The file, setup.py, has all of the required dependencies and versions:\n",
    "\n",
    "```python\n",
    "install_requires = [\n",
    "    'opencv-python==4.5.2.52',\n",
    "    'opencv-contrib-python==4.5.2.52',\n",
    "    'scikit-learn==0.24.2',\n",
    "    'tensorflow==2.5.0',\n",
    "    'pandas==1.2.4',\n",
    "    'jupyter==1.0.0',\n",
    "    'numpy==1.19.5',\n",
    "    'imutils==0.5.4',\n",
    "]\n",
    "\n",
    "```\n"
   ]
  },
  {
   "cell_type": "markdown",
   "id": "74a0f36c",
   "metadata": {},
   "source": [
    "# Test Install"
   ]
  },
  {
   "cell_type": "code",
   "execution_count": 4,
   "id": "8043334e",
   "metadata": {},
   "outputs": [],
   "source": [
    "from tensorflow.keras.models import Sequential\n",
    "from tensorflow.keras.layers import Conv2D\n",
    "from tensorflow.keras.layers import MaxPooling2D\n",
    "from tensorflow.keras.layers import Activation\n",
    "from tensorflow.keras.layers import Flatten\n",
    "from tensorflow.keras.layers import Dense\n",
    "from tensorflow.keras.optimizers import Adam\n",
    "from sklearn.preprocessing import LabelBinarizer\n",
    "from sklearn.model_selection import train_test_split\n",
    "from sklearn.metrics import classification_report\n",
    "from imutils import paths\n",
    "import numpy as np\n",
    "import argparse\n",
    "import os\n",
    "import cv2\n",
    "from sklearn.neighbors import KNeighborsClassifier\n",
    "from sklearn.naive_bayes import GaussianNB\n",
    "from sklearn.linear_model import LogisticRegression\n",
    "from sklearn.svm import SVC\n",
    "from sklearn.tree import DecisionTreeClassifier\n",
    "from sklearn.ensemble import RandomForestClassifier\n",
    "from sklearn.neural_network import MLPClassifier\n",
    "from sklearn.preprocessing import LabelEncoder\n",
    "from sklearn.model_selection import train_test_split\n",
    "from sklearn.metrics import classification_report\n",
    "from sklearn.neighbors import KNeighborsClassifier\n",
    "from sklearn.naive_bayes import GaussianNB\n",
    "from sklearn.linear_model import LogisticRegression\n",
    "from sklearn.datasets import load_iris\n",
    "from tensorflow.keras.optimizers import SGD\n"
   ]
  },
  {
   "cell_type": "code",
   "execution_count": 5,
   "id": "5085da02",
   "metadata": {},
   "outputs": [
    {
     "name": "stdout",
     "output_type": "stream",
     "text": [
      "If you see this your setup worked\n"
     ]
    }
   ],
   "source": [
    "print(\"If you see this your setup worked\")"
   ]
  }
 ],
 "metadata": {
  "kernelspec": {
   "display_name": "Python 3",
   "language": "python",
   "name": "python3"
  },
  "language_info": {
   "codemirror_mode": {
    "name": "ipython",
    "version": 3
   },
   "file_extension": ".py",
   "mimetype": "text/x-python",
   "name": "python",
   "nbconvert_exporter": "python",
   "pygments_lexer": "ipython3",
   "version": "3.8.5"
  }
 },
 "nbformat": 4,
 "nbformat_minor": 5
}
